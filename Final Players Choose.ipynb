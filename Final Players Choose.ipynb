{
 "cells": [
  {
   "cell_type": "code",
   "execution_count": 1,
   "id": "47a3c82d",
   "metadata": {},
   "outputs": [],
   "source": [
    "import pandas as pd\n",
    "import numpy as np"
   ]
  },
  {
   "cell_type": "code",
   "execution_count": 2,
   "id": "8a50727d",
   "metadata": {},
   "outputs": [],
   "source": [
    "cluster1 = pd.read_excel(\"./project_data/cluster_and_rate/cluster_rate.xlsx\",sheet_name=\"cluster1\")"
   ]
  },
  {
   "cell_type": "code",
   "execution_count": 3,
   "id": "f7d5815d",
   "metadata": {},
   "outputs": [],
   "source": [
    "cluster4 = pd.read_excel(\"./project_data/cluster_and_rate/cluster_rate.xlsx\",sheet_name=\"cluster4\")"
   ]
  },
  {
   "cell_type": "code",
   "execution_count": 4,
   "id": "0202f1b1",
   "metadata": {},
   "outputs": [],
   "source": [
    "cluster8 = pd.read_excel(\"./project_data/cluster_and_rate/cluster_rate.xlsx\",sheet_name=\"cluster8\")"
   ]
  },
  {
   "cell_type": "code",
   "execution_count": 5,
   "id": "22df86b2",
   "metadata": {},
   "outputs": [],
   "source": [
    "cluster9 = pd.read_excel(\"./project_data/cluster_and_rate/cluster_rate.xlsx\",sheet_name=\"cluster9\")"
   ]
  },
  {
   "cell_type": "code",
   "execution_count": 6,
   "id": "12c4764a",
   "metadata": {},
   "outputs": [],
   "source": [
    "threshold = 123650000"
   ]
  },
  {
   "cell_type": "code",
   "execution_count": 7,
   "id": "688f3b9e",
   "metadata": {},
   "outputs": [],
   "source": [
    "cluster1_arr = cluster1.to_numpy()"
   ]
  },
  {
   "cell_type": "code",
   "execution_count": 8,
   "id": "ffa423b0",
   "metadata": {},
   "outputs": [],
   "source": [
    "cluster4_arr = cluster4.to_numpy()"
   ]
  },
  {
   "cell_type": "code",
   "execution_count": 9,
   "id": "c2e0c861",
   "metadata": {},
   "outputs": [],
   "source": [
    "cluster8_arr = cluster8.to_numpy()"
   ]
  },
  {
   "cell_type": "code",
   "execution_count": 10,
   "id": "02e081c5",
   "metadata": {},
   "outputs": [],
   "source": [
    "cluster9_arr = cluster9.to_numpy()"
   ]
  },
  {
   "cell_type": "code",
   "execution_count": 11,
   "id": "8484f418",
   "metadata": {},
   "outputs": [],
   "source": [
    "def total_salary(a,b,c,d):\n",
    "    total_1 = cluster1_arr[a,2]\n",
    "    total_4 = sum(cluster4_arr[0:2,2])+cluster4_arr[b,2]\n",
    "    total_8 = cluster8_arr[c,2]\n",
    "    total_9 = sum(cluster9_arr[0:3,2])+cluster9_arr[d,2]\n",
    "    return sum([total_1,total_4,total_8,total_9])"
   ]
  },
  {
   "cell_type": "code",
   "execution_count": 12,
   "id": "40ef6980",
   "metadata": {},
   "outputs": [],
   "source": [
    "def total_rate(a,b,c,d):\n",
    "    total_1 = cluster1_arr[a,1]\n",
    "    total_4 = sum(cluster4_arr[0:2,1])+cluster4_arr[b,1]\n",
    "    total_8 = cluster8_arr[c,1]\n",
    "    total_9 = sum(cluster9_arr[0:3,1])+cluster9_arr[d,1]\n",
    "    return sum([total_1,total_4,total_8,total_9])"
   ]
  },
  {
   "cell_type": "code",
   "execution_count": 13,
   "id": "574e4206",
   "metadata": {},
   "outputs": [
    {
     "data": {
      "text/plain": [
       "124633729"
      ]
     },
     "execution_count": 13,
     "metadata": {},
     "output_type": "execute_result"
    }
   ],
   "source": [
    "total_salary(2,3,5,4)"
   ]
  },
  {
   "cell_type": "code",
   "execution_count": 14,
   "id": "ec1f05b4",
   "metadata": {},
   "outputs": [
    {
     "data": {
      "text/plain": [
       "156.19"
      ]
     },
     "execution_count": 14,
     "metadata": {},
     "output_type": "execute_result"
    }
   ],
   "source": [
    "total_rate(2,3,5,4)"
   ]
  },
  {
   "cell_type": "code",
   "execution_count": 15,
   "id": "f32f1302",
   "metadata": {},
   "outputs": [
    {
     "data": {
      "text/plain": [
       "35"
      ]
     },
     "execution_count": 15,
     "metadata": {},
     "output_type": "execute_result"
    }
   ],
   "source": [
    "len(cluster1_arr)"
   ]
  },
  {
   "cell_type": "code",
   "execution_count": 17,
   "id": "11f9cbaf",
   "metadata": {},
   "outputs": [
    {
     "ename": "KeyboardInterrupt",
     "evalue": "",
     "output_type": "error",
     "traceback": [
      "\u001b[1;31m---------------------------------------------------------------------------\u001b[0m",
      "\u001b[1;31mKeyboardInterrupt\u001b[0m                         Traceback (most recent call last)",
      "\u001b[1;32m<ipython-input-17-6faf21ea23dd>\u001b[0m in \u001b[0;36m<module>\u001b[1;34m\u001b[0m\n\u001b[0;32m      9\u001b[0m         \u001b[0mrate_c\u001b[0m \u001b[1;33m=\u001b[0m \u001b[0mtotal_rate\u001b[0m\u001b[1;33m(\u001b[0m\u001b[0ma\u001b[0m\u001b[1;33m,\u001b[0m\u001b[0mb\u001b[0m\u001b[1;33m,\u001b[0m\u001b[0mc\u001b[0m\u001b[1;33m+\u001b[0m\u001b[1;36m1\u001b[0m\u001b[1;33m,\u001b[0m\u001b[0md\u001b[0m\u001b[1;33m)\u001b[0m\u001b[1;33m\u001b[0m\u001b[1;33m\u001b[0m\u001b[0m\n\u001b[0;32m     10\u001b[0m     \u001b[1;32mif\u001b[0m \u001b[0md\u001b[0m\u001b[1;33m+\u001b[0m\u001b[1;36m1\u001b[0m\u001b[1;33m<\u001b[0m \u001b[0mlen\u001b[0m\u001b[1;33m(\u001b[0m\u001b[0mcluster9_arr\u001b[0m\u001b[1;33m)\u001b[0m\u001b[1;33m:\u001b[0m\u001b[1;33m\u001b[0m\u001b[1;33m\u001b[0m\u001b[0m\n\u001b[1;32m---> 11\u001b[1;33m         \u001b[0mrate_d\u001b[0m \u001b[1;33m=\u001b[0m \u001b[0mtotal_rate\u001b[0m\u001b[1;33m(\u001b[0m\u001b[0ma\u001b[0m\u001b[1;33m,\u001b[0m\u001b[0mb\u001b[0m\u001b[1;33m,\u001b[0m\u001b[0mc\u001b[0m\u001b[1;33m,\u001b[0m\u001b[0md\u001b[0m\u001b[1;33m+\u001b[0m\u001b[1;36m1\u001b[0m\u001b[1;33m)\u001b[0m\u001b[1;33m\u001b[0m\u001b[1;33m\u001b[0m\u001b[0m\n\u001b[0m\u001b[0;32m     12\u001b[0m \u001b[1;33m\u001b[0m\u001b[0m\n\u001b[0;32m     13\u001b[0m     \u001b[1;32mif\u001b[0m \u001b[0md\u001b[0m \u001b[1;33m==\u001b[0m \u001b[0mlen\u001b[0m\u001b[1;33m(\u001b[0m\u001b[0mcluster8_arr\u001b[0m\u001b[1;33m)\u001b[0m\u001b[1;33m-\u001b[0m\u001b[1;36m1\u001b[0m\u001b[1;33m:\u001b[0m\u001b[1;33m\u001b[0m\u001b[1;33m\u001b[0m\u001b[0m\n",
      "\u001b[1;32m<ipython-input-12-9aebcfc5845c>\u001b[0m in \u001b[0;36mtotal_rate\u001b[1;34m(a, b, c, d)\u001b[0m\n\u001b[0;32m      1\u001b[0m \u001b[1;32mdef\u001b[0m \u001b[0mtotal_rate\u001b[0m\u001b[1;33m(\u001b[0m\u001b[0ma\u001b[0m\u001b[1;33m,\u001b[0m\u001b[0mb\u001b[0m\u001b[1;33m,\u001b[0m\u001b[0mc\u001b[0m\u001b[1;33m,\u001b[0m\u001b[0md\u001b[0m\u001b[1;33m)\u001b[0m\u001b[1;33m:\u001b[0m\u001b[1;33m\u001b[0m\u001b[1;33m\u001b[0m\u001b[0m\n\u001b[0;32m      2\u001b[0m     \u001b[0mtotal_1\u001b[0m \u001b[1;33m=\u001b[0m \u001b[0mcluster1_arr\u001b[0m\u001b[1;33m[\u001b[0m\u001b[0ma\u001b[0m\u001b[1;33m,\u001b[0m\u001b[1;36m1\u001b[0m\u001b[1;33m]\u001b[0m\u001b[1;33m\u001b[0m\u001b[1;33m\u001b[0m\u001b[0m\n\u001b[1;32m----> 3\u001b[1;33m     \u001b[0mtotal_4\u001b[0m \u001b[1;33m=\u001b[0m \u001b[0msum\u001b[0m\u001b[1;33m(\u001b[0m\u001b[0mcluster4_arr\u001b[0m\u001b[1;33m[\u001b[0m\u001b[1;36m0\u001b[0m\u001b[1;33m:\u001b[0m\u001b[1;36m2\u001b[0m\u001b[1;33m,\u001b[0m\u001b[1;36m1\u001b[0m\u001b[1;33m]\u001b[0m\u001b[1;33m)\u001b[0m\u001b[1;33m+\u001b[0m\u001b[0mcluster4_arr\u001b[0m\u001b[1;33m[\u001b[0m\u001b[0mb\u001b[0m\u001b[1;33m,\u001b[0m\u001b[1;36m1\u001b[0m\u001b[1;33m]\u001b[0m\u001b[1;33m\u001b[0m\u001b[1;33m\u001b[0m\u001b[0m\n\u001b[0m\u001b[0;32m      4\u001b[0m     \u001b[0mtotal_8\u001b[0m \u001b[1;33m=\u001b[0m \u001b[0mcluster8_arr\u001b[0m\u001b[1;33m[\u001b[0m\u001b[0mc\u001b[0m\u001b[1;33m,\u001b[0m\u001b[1;36m1\u001b[0m\u001b[1;33m]\u001b[0m\u001b[1;33m\u001b[0m\u001b[1;33m\u001b[0m\u001b[0m\n\u001b[0;32m      5\u001b[0m     \u001b[0mtotal_9\u001b[0m \u001b[1;33m=\u001b[0m \u001b[0msum\u001b[0m\u001b[1;33m(\u001b[0m\u001b[0mcluster9_arr\u001b[0m\u001b[1;33m[\u001b[0m\u001b[1;36m0\u001b[0m\u001b[1;33m:\u001b[0m\u001b[1;36m3\u001b[0m\u001b[1;33m,\u001b[0m\u001b[1;36m1\u001b[0m\u001b[1;33m]\u001b[0m\u001b[1;33m)\u001b[0m\u001b[1;33m+\u001b[0m\u001b[0mcluster9_arr\u001b[0m\u001b[1;33m[\u001b[0m\u001b[0md\u001b[0m\u001b[1;33m,\u001b[0m\u001b[1;36m1\u001b[0m\u001b[1;33m]\u001b[0m\u001b[1;33m\u001b[0m\u001b[1;33m\u001b[0m\u001b[0m\n",
      "\u001b[1;31mKeyboardInterrupt\u001b[0m: "
     ]
    }
   ],
   "source": [
    "a,b,c,d = 0,2,0,3\n",
    "while total_salary(a,b,c,d) > threshold:\n",
    "    \n",
    "    if a+1< len(cluster1_arr):\n",
    "        rate_a = total_rate(a+1,b,c,d)\n",
    "    if b+1< len(cluster4_arr):\n",
    "        rate_b = total_rate(a,b+1,c,d)\n",
    "    if c+1< len(cluster8_arr):\n",
    "        rate_c = total_rate(a,b,c+1,d)\n",
    "    if d+1< len(cluster9_arr):\n",
    "        rate_d = total_rate(a,b,c,d+1)\n",
    "    \n",
    "    if d == len(cluster8_arr)-1:\n",
    "        if rate_a == max([rate_a,rate_b,rate_c]) and a+1< len(cluster1_arr):\n",
    "            a = a+1\n",
    "        elif rate_b == max([rate_a,rate_b,rate_c]) and b+1< len(cluster4_arr):\n",
    "            b = b+1\n",
    "        elif rate_c == max([rate_a,rate_b,rate_c]) and c+1< len(cluster8_arr):\n",
    "            c = c+1\n",
    "    elif a == len(cluster1_arr)-1:    \n",
    "        if rate_b == max([rate_a,rate_b,rate_c,rate_d]) and b+1< len(cluster4_arr):\n",
    "            b = b+1\n",
    "        elif rate_c == max([rate_a,rate_b,rate_c,rate_d]) and c+1< len(cluster8_arr):\n",
    "            c = c+1\n",
    "        elif rate_d == max([rate_a,rate_b,rate_c,rate_d]) and d+1< len(cluster9_arr):\n",
    "            d = d+1\n",
    "    elif b == len(cluster4_arr)-1:    \n",
    "        if rate_a == max([rate_a,rate_b,rate_c,rate_d]) and a+1< len(cluster1_arr):\n",
    "            a = a+1\n",
    "        elif rate_c == max([rate_a,rate_b,rate_c,rate_d]) and c+1< len(cluster8_arr):\n",
    "            c = c+1\n",
    "        elif rate_d == max([rate_a,rate_b,rate_c,rate_d]) and d+1< len(cluster9_arr):\n",
    "            d = d+1\n",
    "    elif c == len(cluster8_arr)-1:    \n",
    "        if rate_a == max([rate_a,rate_b,rate_c,rate_d]) and a+1< len(cluster1_arr):\n",
    "            a = a+1\n",
    "        elif rate_b == max([rate_a,rate_b,rate_c,rate_d]) and b+1< len(cluster4_arr):\n",
    "            b = b+1\n",
    "        elif rate_d == max([rate_a,rate_b,rate_c,rate_d]) and d+1< len(cluster9_arr):\n",
    "            d = d+1\n",
    "    else:    \n",
    "        if rate_a == max([rate_a,rate_b,rate_c,rate_d]) and a+1< len(cluster1_arr):\n",
    "            a = a+1\n",
    "        elif rate_b == max([rate_a,rate_b,rate_c,rate_d]) and b+1< len(cluster4_arr):\n",
    "            b = b+1\n",
    "        elif rate_c == max([rate_a,rate_b,rate_c,rate_d]) and c+1< len(cluster8_arr):\n",
    "            c = c+1\n",
    "        elif d+1< len(cluster9_arr):\n",
    "            d = d+1\n"
   ]
  },
  {
   "cell_type": "code",
   "execution_count": 134,
   "id": "e4a5388d",
   "metadata": {},
   "outputs": [
    {
     "data": {
      "text/plain": [
       "(5, 11, 0, 19)"
      ]
     },
     "execution_count": 134,
     "metadata": {},
     "output_type": "execute_result"
    }
   ],
   "source": [
    "a,b,c,d"
   ]
  },
  {
   "cell_type": "code",
   "execution_count": 135,
   "id": "8043da20",
   "metadata": {},
   "outputs": [],
   "source": [
    "np1 = cluster1_arr[5]"
   ]
  },
  {
   "cell_type": "code",
   "execution_count": 136,
   "id": "26c33cdb",
   "metadata": {},
   "outputs": [],
   "source": [
    "np2 = cluster4_arr[0:2]"
   ]
  },
  {
   "cell_type": "code",
   "execution_count": 137,
   "id": "cd3e1581",
   "metadata": {},
   "outputs": [],
   "source": [
    "np3 = cluster4_arr[11]"
   ]
  },
  {
   "cell_type": "code",
   "execution_count": 138,
   "id": "aadf045a",
   "metadata": {},
   "outputs": [],
   "source": [
    "np4 = cluster8_arr[0]"
   ]
  },
  {
   "cell_type": "code",
   "execution_count": 139,
   "id": "d4b091d2",
   "metadata": {},
   "outputs": [],
   "source": [
    "np5 = cluster9_arr[0:3]"
   ]
  },
  {
   "cell_type": "code",
   "execution_count": 140,
   "id": "1834c03c",
   "metadata": {},
   "outputs": [],
   "source": [
    "np6 = cluster9_arr[19]"
   ]
  },
  {
   "cell_type": "code",
   "execution_count": 141,
   "id": "f0820107",
   "metadata": {},
   "outputs": [],
   "source": [
    "roaster = np.vstack((np1,np2,np3,np4,np5,np6))"
   ]
  },
  {
   "cell_type": "code",
   "execution_count": 142,
   "id": "28488383",
   "metadata": {},
   "outputs": [
    {
     "data": {
      "text/plain": [
       "array([['Ja Morant', 28.25, 12119440],\n",
       "       ['Isaiah Roby', 12.03, 1930681],\n",
       "       ['Damian Jones', 11.0, 2298385],\n",
       "       ['Naz Reid', 8.27, 1930681],\n",
       "       ['Anthony Davis', 23.52, 37980720],\n",
       "       ['Terry Rozier', 19.94, 21486316],\n",
       "       ['Dillon Brooks', 19.92, 11400000],\n",
       "       ['Anfernee Simons', 19.67, 22321429],\n",
       "       ['Franz Wagner', 14.45, 5258280]], dtype=object)"
      ]
     },
     "execution_count": 142,
     "metadata": {},
     "output_type": "execute_result"
    }
   ],
   "source": [
    "roaster"
   ]
  },
  {
   "cell_type": "code",
   "execution_count": 143,
   "id": "5cb79c26",
   "metadata": {},
   "outputs": [],
   "source": [
    "roaster_df = pd.DataFrame(roaster,columns=[\"Player\",\"Rate\",\"Salary\"])"
   ]
  },
  {
   "cell_type": "code",
   "execution_count": 144,
   "id": "e1592847",
   "metadata": {},
   "outputs": [],
   "source": [
    "roaster_df.to_excel(\"./final_roster.xlsx\",index=False)"
   ]
  },
  {
   "cell_type": "code",
   "execution_count": 12,
   "id": "3e5d30ed",
   "metadata": {},
   "outputs": [],
   "source": [
    "a = pd.read_excel(\"./project_data/players_rates_weighted/player_rates_weighted.xlsx\")"
   ]
  },
  {
   "cell_type": "code",
   "execution_count": 13,
   "id": "9532f55c",
   "metadata": {},
   "outputs": [],
   "source": [
    "a_arr = a.to_numpy()"
   ]
  },
  {
   "cell_type": "code",
   "execution_count": 14,
   "id": "4bf4afb4",
   "metadata": {},
   "outputs": [
    {
     "data": {
      "text/plain": [
       "array([['Klay Thompson', 25.96, 20.11, -5.85, 23.03],\n",
       "       ['Immanuel Quickley', 14.36, 9.76, -4.6, 12.06],\n",
       "       ['Thanasis Antetokounmpo', 6.41, 2.26, -4.15, 4.34],\n",
       "       ['Olivier Sarr', 10.84, 6.94, -3.9, 8.89],\n",
       "       ['LeBron James', 32.68, 29.6, -3.09, 31.14],\n",
       "       ['Bones Hyland', 11.46, 8.76, -2.69, 10.11],\n",
       "       ['Damian Jones', 12.33, 9.68, -2.65, 11.0],\n",
       "       ['Davion Mitchell', 13.68, 11.08, -2.59, 12.38],\n",
       "       ['Austin Reaves', 9.9, 7.33, -2.56, 8.61],\n",
       "       ['Bruce Brown', 11.44, 9.1, -2.34, 10.27]], dtype=object)"
      ]
     },
     "execution_count": 14,
     "metadata": {},
     "output_type": "execute_result"
    }
   ],
   "source": [
    "a_arr[0:10]"
   ]
  },
  {
   "cell_type": "code",
   "execution_count": null,
   "id": "aade63bd",
   "metadata": {},
   "outputs": [],
   "source": []
  }
 ],
 "metadata": {
  "kernelspec": {
   "display_name": "Python 3",
   "language": "python",
   "name": "python3"
  },
  "language_info": {
   "codemirror_mode": {
    "name": "ipython",
    "version": 3
   },
   "file_extension": ".py",
   "mimetype": "text/x-python",
   "name": "python",
   "nbconvert_exporter": "python",
   "pygments_lexer": "ipython3",
   "version": "3.8.8"
  }
 },
 "nbformat": 4,
 "nbformat_minor": 5
}
