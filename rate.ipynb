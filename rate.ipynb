{
 "cells": [
  {
   "cell_type": "code",
   "execution_count": 2,
   "id": "e2f50814",
   "metadata": {},
   "outputs": [],
   "source": [
    "import pandas as pd\n",
    "import numpy as np"
   ]
  },
  {
   "cell_type": "code",
   "execution_count": 3,
   "id": "0728a6b1",
   "metadata": {},
   "outputs": [],
   "source": [
    "player_list = pd.read_excel(\"./project_data/players_to_be_rated.xlsx\")"
   ]
  },
  {
   "cell_type": "code",
   "execution_count": 4,
   "id": "07b0a3c3",
   "metadata": {},
   "outputs": [],
   "source": [
    "player_list  = list(player_list[\"player\"])"
   ]
  },
  {
   "cell_type": "code",
   "execution_count": 5,
   "id": "d938dcc6",
   "metadata": {},
   "outputs": [
    {
     "data": {
      "text/plain": [
       "['Klay Thompson',\n",
       " 'Dillon Brooks',\n",
       " 'Tyler Herro',\n",
       " 'Reggie Jackson',\n",
       " 'Anthony Edwards',\n",
       " 'Jordan Clarkson',\n",
       " 'Jordan Poole',\n",
       " 'Anfernee Simons',\n",
       " 'Kevin Love',\n",
       " 'Nickeil Alexander-Walker',\n",
       " 'Bojan Bogdanovic',\n",
       " 'Lonnie Walker IV',\n",
       " 'Bones Hyland',\n",
       " 'Luguentz Dort',\n",
       " 'Terry Rozier',\n",
       " 'Desmond Bane',\n",
       " 'Andrew Wiggins',\n",
       " 'Miles Bridges',\n",
       " 'Kelly Oubre Jr.',\n",
       " 'Immanuel Quickley',\n",
       " 'Tobias Harris',\n",
       " 'Tim Hardaway Jr.',\n",
       " 'Gary Trent Jr.',\n",
       " 'Bogdan Bogdanovic',\n",
       " 'Keldon Johnson',\n",
       " 'Franz Wagner',\n",
       " 'Chris Duarte',\n",
       " 'Bobby Portis',\n",
       " 'Cedi Osman',\n",
       " 'Will Barton',\n",
       " \"De'Anthony Melton\",\n",
       " 'OG Anunoby',\n",
       " 'Davion Mitchell',\n",
       " 'Gordon Hayward',\n",
       " 'Evan Fournier',\n",
       " 'Tyrese Maxey',\n",
       " 'Derrick White',\n",
       " 'Malik Monk',\n",
       " 'Carmelo Anthony',\n",
       " 'Coby White',\n",
       " 'Aaron Gordon',\n",
       " \"De'Andre Hunter\",\n",
       " 'Lauri Markkanen',\n",
       " \"Devonte' Graham\",\n",
       " 'Talen Horton-Tucker',\n",
       " 'Malik Beasley',\n",
       " 'Kentavious Caldwell-Pope',\n",
       " 'Chimezie Metu',\n",
       " 'Devin Vassell',\n",
       " 'Seth Curry',\n",
       " 'Eric Gordon',\n",
       " 'Danilo Gallinari',\n",
       " 'Doug McDermott',\n",
       " 'Max Strus',\n",
       " 'Gabe Vincent',\n",
       " 'Duncan Robinson',\n",
       " 'Monte Morris',\n",
       " 'Josh Richardson',\n",
       " 'Alec Burks',\n",
       " 'Lonzo Ball',\n",
       " 'Furkan Korkmaz',\n",
       " 'Kevin Huerter',\n",
       " 'Cameron Johnson',\n",
       " 'Luke Kennard',\n",
       " 'Jeff Green',\n",
       " 'Gary Harris',\n",
       " 'Georges Niang',\n",
       " 'Patty Mills',\n",
       " 'Chuma Okeke',\n",
       " 'Deni Avdija',\n",
       " 'Caleb Martin',\n",
       " 'Patrick Beverley',\n",
       " 'Terance Mann',\n",
       " 'Justin Holiday',\n",
       " 'Nassir Little',\n",
       " 'Amir Coffey',\n",
       " 'P.J. Washington',\n",
       " 'Jaden McDaniels',\n",
       " 'Mikal Bridges',\n",
       " 'Grayson Allen',\n",
       " 'Al Horford',\n",
       " 'Joe Harris',\n",
       " 'Bruce Brown',\n",
       " 'Jae Crowder',\n",
       " 'Corey Kispert',\n",
       " 'Ayo Dosunmu',\n",
       " 'Dorian Finney-Smith',\n",
       " 'Pat Connaughton',\n",
       " 'Herbert Jones',\n",
       " 'Robert Covington',\n",
       " 'Nicolas Batum',\n",
       " 'Reggie Bullock',\n",
       " 'Grant Williams',\n",
       " 'Austin Rivers',\n",
       " 'Isaac Okoro',\n",
       " 'Austin Reaves',\n",
       " 'Danny Green',\n",
       " 'Cody Martin',\n",
       " 'Avery Bradley',\n",
       " 'P.J. Tucker',\n",
       " 'Javonte Green',\n",
       " \"Royce O'Neale\",\n",
       " 'Matisse Thybulle',\n",
       " 'Anthony Davis',\n",
       " 'Jaren Jackson Jr.',\n",
       " 'LaMarcus Aldridge',\n",
       " 'Deandre Ayton',\n",
       " 'JaVale McGee',\n",
       " 'Evan Mobley',\n",
       " 'Jakob Poeltl',\n",
       " 'Jarrett Allen',\n",
       " 'Myles Turner',\n",
       " 'Chris Boucher',\n",
       " 'Mo Bamba',\n",
       " 'Ivica Zubac',\n",
       " 'Rudy Gobert',\n",
       " 'Hassan Whiteside',\n",
       " 'Dewayne Dedmon',\n",
       " 'Daniel Gafford',\n",
       " 'Richaun Holmes',\n",
       " 'Clint Capela',\n",
       " 'Isaiah Stewart',\n",
       " 'Onyeka Okongwu',\n",
       " 'Maxi Kleber',\n",
       " 'Robert Williams III',\n",
       " 'Mitchell Robinson',\n",
       " 'DeMarcus Cousins',\n",
       " 'Jonathan Kuminga',\n",
       " 'Naz Reid',\n",
       " \"Day'Ron Sharpe\",\n",
       " 'Marquese Chriss',\n",
       " 'Moses Brown',\n",
       " 'Luka Garza',\n",
       " 'Jalen Smith',\n",
       " 'Omer Yurtseven',\n",
       " 'Isaiah Roby',\n",
       " 'Zach Collins',\n",
       " 'Robin Lopez',\n",
       " 'Precious Achiuwa',\n",
       " 'Isaiah Hartenstein',\n",
       " 'Nemanja Bjelica',\n",
       " 'Serge Ibaka',\n",
       " 'Brandon Clarke',\n",
       " 'JaMychal Green',\n",
       " 'Bismack Biyombo',\n",
       " 'Alex Len',\n",
       " 'Wenyen Gabriel',\n",
       " 'Gorgui Dieng',\n",
       " 'Damian Jones',\n",
       " 'Daniel Theis',\n",
       " 'Jaxson Hayes',\n",
       " 'Paul Millsap',\n",
       " 'Thanasis Antetokounmpo',\n",
       " 'Cody Zeller',\n",
       " 'Nic Claxton',\n",
       " 'Nick Richards',\n",
       " 'Zeke Nnaji',\n",
       " 'Anthony Gill',\n",
       " 'Olivier Sarr',\n",
       " 'DeAndre Jordan',\n",
       " 'Derrick Favors',\n",
       " 'Enes Freedom',\n",
       " 'Tony Bradley',\n",
       " 'Kevon Looney',\n",
       " 'Derrick Jones Jr.',\n",
       " 'Khem Birch',\n",
       " 'Jarred Vanderbilt',\n",
       " 'Taj Gibson',\n",
       " 'Nerlens Noel',\n",
       " 'Jericho Sims',\n",
       " 'Luka Doncic',\n",
       " 'Trae Young',\n",
       " 'Ja Morant',\n",
       " 'Paul George',\n",
       " 'Donovan Mitchell',\n",
       " 'LeBron James',\n",
       " 'Devin Booker',\n",
       " 'Jayson Tatum',\n",
       " 'Kevin Durant',\n",
       " 'DeMar DeRozan',\n",
       " 'Shai Gilgeous-Alexander',\n",
       " 'Jaylen Brown',\n",
       " 'Bradley Beal',\n",
       " 'Stephen Curry',\n",
       " 'Brandon Ingram',\n",
       " 'Kyrie Irving',\n",
       " 'Darius Garland',\n",
       " 'LaMelo Ball',\n",
       " 'Dejounte Murray',\n",
       " 'James Harden',\n",
       " 'Russell Westbrook',\n",
       " 'Jimmy Butler',\n",
       " 'Pascal Siakam',\n",
       " 'Khris Middleton',\n",
       " \"D'Angelo Russell\",\n",
       " 'Cole Anthony',\n",
       " 'Jalen Suggs',\n",
       " 'Malcolm Brogdon',\n",
       " 'Ricky Rubio',\n",
       " 'Fred VanVleet',\n",
       " 'Jrue Holiday',\n",
       " 'Dennis Schroder',\n",
       " 'Josh Giddey',\n",
       " 'Jalen Brunson',\n",
       " 'Spencer Dinwiddie',\n",
       " 'Mike Conley',\n",
       " 'Eric Bledsoe',\n",
       " 'Chris Paul',\n",
       " 'Tyrese Haliburton',\n",
       " 'Marcus Smart',\n",
       " 'Kyle Lowry',\n",
       " 'Draymond Green']"
      ]
     },
     "execution_count": 5,
     "metadata": {},
     "output_type": "execute_result"
    }
   ],
   "source": [
    "player_list"
   ]
  },
  {
   "cell_type": "code",
   "execution_count": 6,
   "id": "6ec6f216",
   "metadata": {},
   "outputs": [],
   "source": [
    "rate_raw = pd.read_excel(\"./project_data/player_rate_with_weights.xlsx\")"
   ]
  },
  {
   "cell_type": "code",
   "execution_count": 7,
   "id": "ffe1590e",
   "metadata": {},
   "outputs": [
    {
     "data": {
      "text/html": [
       "<div>\n",
       "<style scoped>\n",
       "    .dataframe tbody tr th:only-of-type {\n",
       "        vertical-align: middle;\n",
       "    }\n",
       "\n",
       "    .dataframe tbody tr th {\n",
       "        vertical-align: top;\n",
       "    }\n",
       "\n",
       "    .dataframe thead th {\n",
       "        text-align: right;\n",
       "    }\n",
       "</style>\n",
       "<table border=\"1\" class=\"dataframe\">\n",
       "  <thead>\n",
       "    <tr style=\"text-align: right;\">\n",
       "      <th></th>\n",
       "      <th>PLAYER</th>\n",
       "      <th>GAME DATE</th>\n",
       "      <th>GameResult</th>\n",
       "      <th>rate</th>\n",
       "    </tr>\n",
       "  </thead>\n",
       "  <tbody>\n",
       "    <tr>\n",
       "      <th>0</th>\n",
       "      <td>Ayo Dosunmu</td>\n",
       "      <td>2022-04-10</td>\n",
       "      <td>4</td>\n",
       "      <td>26</td>\n",
       "    </tr>\n",
       "    <tr>\n",
       "      <th>1</th>\n",
       "      <td>Javonte Green</td>\n",
       "      <td>2022-04-10</td>\n",
       "      <td>4</td>\n",
       "      <td>8</td>\n",
       "    </tr>\n",
       "    <tr>\n",
       "      <th>2</th>\n",
       "      <td>Tony Bradley</td>\n",
       "      <td>2022-04-10</td>\n",
       "      <td>4</td>\n",
       "      <td>11</td>\n",
       "    </tr>\n",
       "    <tr>\n",
       "      <th>3</th>\n",
       "      <td>Anthony Edwards</td>\n",
       "      <td>2022-04-10</td>\n",
       "      <td>4</td>\n",
       "      <td>8</td>\n",
       "    </tr>\n",
       "    <tr>\n",
       "      <th>4</th>\n",
       "      <td>Derrick Jones Jr.</td>\n",
       "      <td>2022-04-10</td>\n",
       "      <td>4</td>\n",
       "      <td>12</td>\n",
       "    </tr>\n",
       "    <tr>\n",
       "      <th>...</th>\n",
       "      <td>...</td>\n",
       "      <td>...</td>\n",
       "      <td>...</td>\n",
       "      <td>...</td>\n",
       "    </tr>\n",
       "    <tr>\n",
       "      <th>12718</th>\n",
       "      <td>Carmelo Anthony</td>\n",
       "      <td>2021-10-19</td>\n",
       "      <td>7</td>\n",
       "      <td>9</td>\n",
       "    </tr>\n",
       "    <tr>\n",
       "      <th>12719</th>\n",
       "      <td>Nemanja Bjelica</td>\n",
       "      <td>2021-10-19</td>\n",
       "      <td>7</td>\n",
       "      <td>15</td>\n",
       "    </tr>\n",
       "    <tr>\n",
       "      <th>12720</th>\n",
       "      <td>Malik Monk</td>\n",
       "      <td>2021-10-19</td>\n",
       "      <td>7</td>\n",
       "      <td>6</td>\n",
       "    </tr>\n",
       "    <tr>\n",
       "      <th>12721</th>\n",
       "      <td>LeBron James</td>\n",
       "      <td>2021-10-19</td>\n",
       "      <td>7</td>\n",
       "      <td>34</td>\n",
       "    </tr>\n",
       "    <tr>\n",
       "      <th>12722</th>\n",
       "      <td>Avery Bradley</td>\n",
       "      <td>2021-10-19</td>\n",
       "      <td>7</td>\n",
       "      <td>6</td>\n",
       "    </tr>\n",
       "  </tbody>\n",
       "</table>\n",
       "<p>12723 rows × 4 columns</p>\n",
       "</div>"
      ],
      "text/plain": [
       "                  PLAYER  GAME DATE  GameResult  rate\n",
       "0            Ayo Dosunmu 2022-04-10           4    26\n",
       "1          Javonte Green 2022-04-10           4     8\n",
       "2           Tony Bradley 2022-04-10           4    11\n",
       "3        Anthony Edwards 2022-04-10           4     8\n",
       "4      Derrick Jones Jr. 2022-04-10           4    12\n",
       "...                  ...        ...         ...   ...\n",
       "12718    Carmelo Anthony 2021-10-19           7     9\n",
       "12719    Nemanja Bjelica 2021-10-19           7    15\n",
       "12720         Malik Monk 2021-10-19           7     6\n",
       "12721       LeBron James 2021-10-19           7    34\n",
       "12722      Avery Bradley 2021-10-19           7     6\n",
       "\n",
       "[12723 rows x 4 columns]"
      ]
     },
     "execution_count": 7,
     "metadata": {},
     "output_type": "execute_result"
    }
   ],
   "source": [
    "rate_raw"
   ]
  },
  {
   "cell_type": "code",
   "execution_count": 8,
   "id": "a26946aa",
   "metadata": {},
   "outputs": [],
   "source": [
    "rate_raw_arr = rate_raw.to_numpy()"
   ]
  },
  {
   "cell_type": "code",
   "execution_count": 9,
   "id": "98e7fa20",
   "metadata": {},
   "outputs": [
    {
     "data": {
      "text/plain": [
       "array([['Ayo Dosunmu', Timestamp('2022-04-10 00:00:00'), 4, 26],\n",
       "       ['Javonte Green', Timestamp('2022-04-10 00:00:00'), 4, 8],\n",
       "       ['Tony Bradley', Timestamp('2022-04-10 00:00:00'), 4, 11],\n",
       "       ...,\n",
       "       ['Malik Monk', Timestamp('2021-10-19 00:00:00'), 7, 6],\n",
       "       ['LeBron James', Timestamp('2021-10-19 00:00:00'), 7, 34],\n",
       "       ['Avery Bradley', Timestamp('2021-10-19 00:00:00'), 7, 6]],\n",
       "      dtype=object)"
      ]
     },
     "execution_count": 9,
     "metadata": {},
     "output_type": "execute_result"
    }
   ],
   "source": [
    "rate_raw_arr"
   ]
  },
  {
   "cell_type": "code",
   "execution_count": 34,
   "id": "4b3584be",
   "metadata": {},
   "outputs": [],
   "source": [
    "rate_unweighted = np.empty([len(rate_raw_arr), 4])"
   ]
  },
  {
   "cell_type": "code",
   "execution_count": 10,
   "id": "2e8ac0a2",
   "metadata": {},
   "outputs": [],
   "source": [
    "def weight(x):\n",
    "    if x>10:\n",
    "        return 1\n",
    "    else:\n",
    "        return 11-x"
   ]
  },
  {
   "cell_type": "code",
   "execution_count": 11,
   "id": "7fc39879",
   "metadata": {},
   "outputs": [
    {
     "data": {
      "text/plain": [
       "array([[1., 1., 1., 1.]])"
      ]
     },
     "execution_count": 11,
     "metadata": {},
     "output_type": "execute_result"
    }
   ],
   "source": [
    "np.empty([1, 4])"
   ]
  },
  {
   "cell_type": "code",
   "execution_count": 16,
   "id": "c239a462",
   "metadata": {},
   "outputs": [],
   "source": [
    "for name in player_list:\n",
    "    player_rate_unweighted = np.empty([1, 4])\n",
    "    time_weight = 1\n",
    "    for i in range(len(rate_raw_arr)):\n",
    "        if rate_raw_arr[i,0] == name:\n",
    "            arr = np.array([name,weight(time_weight),weight(rate_raw_arr[i,2]),rate_raw_arr[i,3]])\n",
    "            player_rate_unweighted = np.vstack((player_rate_unweighted, arr))\n",
    "            time_weight +=1 \n",
    "    player_rate_unweighted = player_rate_unweighted[1:]\n",
    "    player_rate_unweighted_df = pd.DataFrame(player_rate_unweighted, columns=[\"player\",\"time\",\"result\",\"rate\"])\n",
    "    player_rate_unweighted_df.to_excel(\"./project_data/players_rates/rate_\"+name+\".xlsx\", index = False)"
   ]
  },
  {
   "cell_type": "code",
   "execution_count": 34,
   "id": "85c7bc41",
   "metadata": {},
   "outputs": [],
   "source": [
    "weighted_rate = np.empty([1, 4])"
   ]
  },
  {
   "cell_type": "code",
   "execution_count": 27,
   "id": "b28c3288",
   "metadata": {},
   "outputs": [],
   "source": [
    "data = pd.read_excel(\"./project_data/players_rates/rate_\"+'LeBron James'+\".xlsx\")"
   ]
  },
  {
   "cell_type": "code",
   "execution_count": 28,
   "id": "c9828e39",
   "metadata": {},
   "outputs": [
    {
     "data": {
      "text/html": [
       "<div>\n",
       "<style scoped>\n",
       "    .dataframe tbody tr th:only-of-type {\n",
       "        vertical-align: middle;\n",
       "    }\n",
       "\n",
       "    .dataframe tbody tr th {\n",
       "        vertical-align: top;\n",
       "    }\n",
       "\n",
       "    .dataframe thead th {\n",
       "        text-align: right;\n",
       "    }\n",
       "</style>\n",
       "<table border=\"1\" class=\"dataframe\">\n",
       "  <thead>\n",
       "    <tr style=\"text-align: right;\">\n",
       "      <th></th>\n",
       "      <th>player</th>\n",
       "      <th>time</th>\n",
       "      <th>result</th>\n",
       "      <th>rate</th>\n",
       "    </tr>\n",
       "  </thead>\n",
       "  <tbody>\n",
       "    <tr>\n",
       "      <th>0</th>\n",
       "      <td>LeBron James</td>\n",
       "      <td>10</td>\n",
       "      <td>8</td>\n",
       "      <td>38</td>\n",
       "    </tr>\n",
       "    <tr>\n",
       "      <th>1</th>\n",
       "      <td>LeBron James</td>\n",
       "      <td>9</td>\n",
       "      <td>3</td>\n",
       "      <td>39</td>\n",
       "    </tr>\n",
       "    <tr>\n",
       "      <th>2</th>\n",
       "      <td>LeBron James</td>\n",
       "      <td>8</td>\n",
       "      <td>1</td>\n",
       "      <td>38</td>\n",
       "    </tr>\n",
       "    <tr>\n",
       "      <th>3</th>\n",
       "      <td>LeBron James</td>\n",
       "      <td>7</td>\n",
       "      <td>3</td>\n",
       "      <td>38</td>\n",
       "    </tr>\n",
       "    <tr>\n",
       "      <th>4</th>\n",
       "      <td>LeBron James</td>\n",
       "      <td>6</td>\n",
       "      <td>6</td>\n",
       "      <td>36</td>\n",
       "    </tr>\n",
       "  </tbody>\n",
       "</table>\n",
       "</div>"
      ],
      "text/plain": [
       "         player  time  result  rate\n",
       "0  LeBron James    10       8    38\n",
       "1  LeBron James     9       3    39\n",
       "2  LeBron James     8       1    38\n",
       "3  LeBron James     7       3    38\n",
       "4  LeBron James     6       6    36"
      ]
     },
     "execution_count": 28,
     "metadata": {},
     "output_type": "execute_result"
    }
   ],
   "source": [
    "data.head()"
   ]
  },
  {
   "cell_type": "code",
   "execution_count": 29,
   "id": "d5bee3e8",
   "metadata": {},
   "outputs": [],
   "source": [
    "data[\"time*rate\"] = data[\"rate\"]*data[\"time\"]\n",
    "data[\"result*rate\"] = data[\"rate\"]*data[\"result\"]"
   ]
  },
  {
   "cell_type": "code",
   "execution_count": 30,
   "id": "20ce5ebe",
   "metadata": {},
   "outputs": [],
   "source": [
    "sum_weight_time = sum(data[\"time\"])\n",
    "sum_weight_result = sum(data[\"result\"])"
   ]
  },
  {
   "cell_type": "code",
   "execution_count": 31,
   "id": "fb4b7a61",
   "metadata": {},
   "outputs": [],
   "source": [
    "rate_time = sum(data[\"time*rate\"])/sum_weight_time\n",
    "rate_result = sum(data[\"result*rate\"])/sum_weight_result\n",
    "overall = (rate_time+rate_result)/2"
   ]
  },
  {
   "cell_type": "code",
   "execution_count": 32,
   "id": "4f65d5e6",
   "metadata": {},
   "outputs": [],
   "source": [
    "arr = np.array(['LeBron James',rate_time,rate_result,overall])"
   ]
  },
  {
   "cell_type": "code",
   "execution_count": 35,
   "id": "6a3336c3",
   "metadata": {},
   "outputs": [],
   "source": [
    "player_rate_weighted = np.vstack((weighted_rate, arr))"
   ]
  },
  {
   "cell_type": "code",
   "execution_count": 36,
   "id": "34ab0835",
   "metadata": {},
   "outputs": [
    {
     "data": {
      "text/plain": [
       "array([['1.117705831611e-311', '1.1176391515945e-311',\n",
       "        '1.117642937766e-311', '1.117639152132e-311'],\n",
       "       ['LeBron James', '32.68316831683168', '29.596938775510203',\n",
       "        '31.140053546170943']], dtype='<U32')"
      ]
     },
     "execution_count": 36,
     "metadata": {},
     "output_type": "execute_result"
    }
   ],
   "source": [
    "player_rate_weighted"
   ]
  },
  {
   "cell_type": "code",
   "execution_count": 33,
   "id": "b75b9ac3",
   "metadata": {},
   "outputs": [],
   "source": [
    "df = pd.DataFrame(arr)\n",
    "df.to_excel(\"./project_data/players_rates_weighted/weighted_rate_\"+'LeBron James'+\".xlsx\",index=False)"
   ]
  },
  {
   "cell_type": "code",
   "execution_count": 40,
   "id": "99e59f8b",
   "metadata": {},
   "outputs": [],
   "source": [
    "weighted_player_rate = np.empty([1, 4])\n",
    "for name in player_list:\n",
    "    file = \"./project_data/players_rates/rate_\"+name+\".xlsx\"\n",
    "    data = pd.read_excel(file)\n",
    "    sum_weight_time = sum(data[\"time\"])\n",
    "    sum_weight_result = sum(data[\"result\"])\n",
    "    if sum_weight_time!= 0 and sum_weight_result != 0:\n",
    "        \n",
    "        data[\"time*rate\"] = data[\"rate\"]*data[\"time\"]\n",
    "        data[\"result*rate\"] = data[\"rate\"]*data[\"result\"]  \n",
    "        rate_time = sum(data[\"time*rate\"])/sum_weight_time\n",
    "        rate_result = sum(data[\"result*rate\"])/sum_weight_result\n",
    "        overall = (rate_time+rate_result)/2\n",
    "        arr = np.array([name,rate_time,rate_result,overall])\n",
    "        weighted_player_rate = np.vstack((weighted_player_rate, arr))\n",
    "\n",
    "weighted_player_rate = weighted_player_rate[1:]\n",
    "df = pd.DataFrame(weighted_player_rate)\n",
    "df.to_excel(\"./project_data/players_rates_weighted/player_rates_weighted.xlsx\",index=False) "
   ]
  },
  {
   "cell_type": "code",
   "execution_count": null,
   "id": "b09fff68",
   "metadata": {},
   "outputs": [],
   "source": []
  }
 ],
 "metadata": {
  "kernelspec": {
   "display_name": "Python 3",
   "language": "python",
   "name": "python3"
  },
  "language_info": {
   "codemirror_mode": {
    "name": "ipython",
    "version": 3
   },
   "file_extension": ".py",
   "mimetype": "text/x-python",
   "name": "python",
   "nbconvert_exporter": "python",
   "pygments_lexer": "ipython3",
   "version": "3.8.8"
  }
 },
 "nbformat": 4,
 "nbformat_minor": 5
}
